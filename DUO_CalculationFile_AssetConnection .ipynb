{
 "cells": [
  {
   "cell_type": "markdown",
   "metadata": {},
   "source": [
    "# EMA Calculation Script VENSIM Model"
   ]
  },
  {
   "cell_type": "markdown",
   "metadata": {},
   "source": [
    "Date: 28-08-2017\n",
    "\n",
    "#Mark Havelaar\n",
    "#Wouter Jaspers\n",
    "\n",
    "Subject: Improving Large Intervention Decisions within Infra Asset Management\n",
    "\n",
    "Model: FinalModelEMA\n",
    "\n",
    "DUO Simulation_RoadLockIntervention"
   ]
  },
  {
   "cell_type": "markdown",
   "metadata": {},
   "source": [
    "#1 Loading EMA Workbench & Other Relevant Packages"
   ]
  },
  {
   "cell_type": "code",
   "execution_count": 2,
   "metadata": {
    "collapsed": false
   },
   "outputs": [
    {
     "data": {
      "text/plain": [
       "<Logger EMA (DEBUG)>"
      ]
     },
     "execution_count": 2,
     "metadata": {},
     "output_type": "execute_result"
    }
   ],
   "source": [
    "import pandas as pd\n",
    "\n",
    "import numpy as np\n",
    "\n",
    "import matplotlib.pyplot as plt\n",
    "\n",
    "from __future__ import (division, unicode_literals, print_function, \n",
    "                        absolute_import)\n",
    "\n",
    "from ema_workbench import (TimeSeriesOutcome, perform_experiments, Constant, \n",
    "                           RealParameter, ema_logging, ScalarOutcome, load_results)\n",
    "\n",
    "from ema_workbench.em_framework.evaluators import MultiprocessingEvaluator\n",
    "\n",
    "from ema_workbench.util import save_results, ema_logging, CaseError\n",
    "\n",
    "from ema_workbench.analysis.plotting import envelopes \n",
    "from ema_workbench.analysis.plotting_util import (KDE, BOXPLOT)\n",
    "\n",
    "from ema_workbench.analysis.plotting import lines\n",
    "\n",
    "from ema_workbench.analysis.pairs_plotting import (pairs_lines, pairs_scatter)\n",
    "\n",
    "from ema_workbench.connectors.vensim import (LookupUncertainty, VensimModel, VensimModelStructureInterface)\n",
    "\n",
    "from ema_workbench.em_framework.parameters import Policy\n",
    "\n",
    "from ema_workbench.em_framework import CategoricalParameter\n",
    "\n",
    "#Turn on Logging\n",
    "ema_logging.log_to_stderr(ema_logging.INFO)"
   ]
  },
  {
   "cell_type": "markdown",
   "metadata": {},
   "source": [
    "#2  Loading VENSIM Model"
   ]
  },
  {
   "cell_type": "code",
   "execution_count": 3,
   "metadata": {
    "collapsed": true
   },
   "outputs": [],
   "source": [
    "#Specify Location\n",
    "wd= r'C:\\Users\\markh\\Dropbox\\Tu Delft\\Afstuderen SD\\V - EMA'"
   ]
  },
  {
   "cell_type": "code",
   "execution_count": 4,
   "metadata": {
    "collapsed": true
   },
   "outputs": [],
   "source": [
    "#Load Model\n",
    "if __name__ == '__main__':\n",
    "    ema_logging.log_to_stderr(ema_logging.INFO)\n",
    "\n",
    "model = VensimModel(\"EMAModel\", wd=wd, model_file= wd + '\\FinalModelEMA.vpm')"
   ]
  },
  {
   "cell_type": "markdown",
   "metadata": {},
   "source": [
    "#3 Specifying Model Uncertainties for all Simulations"
   ]
  },
  {
   "cell_type": "code",
   "execution_count": 5,
   "metadata": {
    "collapsed": false
   },
   "outputs": [],
   "source": [
    "##SCENARIO'S\n",
    "\n",
    "model.uncertainties=[   \n",
    "    \n",
    "#CONNECTED/UNCONNECTED\n",
    "                            CategoricalParameter('Switch Connected and Unconnected', (0,1)),\n",
    "#Population Scenario\n",
    "                            CategoricalParameter('Switch Population', (0,1,2)),\n",
    "#Land Use Scenario\n",
    "                            CategoricalParameter('Switch Urbanization', (0,1,2)),\n",
    "#Economy Scenario\n",
    "                            CategoricalParameter('Switch Economy', (0,1,2)),\n",
    "#Innovation Scenario\n",
    "                            CategoricalParameter('Switch Innovation', (0,1,2)),\n",
    "#Climate Scenario\n",
    "                            CategoricalParameter('Switch Climate Scenario', (0,1,2,3)),\n",
    "                       \n",
    "##GENERAL UNCERTAINTIES\n",
    "                            \n",
    "#Building Mode City and Harbour                   \n",
    "                            CategoricalParameter('Switch Building Mode', (0,1)),\n",
    "                            CategoricalParameter('Forecast Time Forecasting Policy', (1, 2, 3, 4)),\n",
    "    \n",
    "#Nature Preservation Area\n",
    "                            CategoricalParameter('Switch Nature Scenario', (0,1)),\n",
    "                            \n",
    "#MODEL SPECIFIC UNCERTAINTIES\n",
    "                            \n",
    "#City Model\n",
    "                            RealParameter('Normal Land use per house', 0.024, 0.036),\n",
    "                            CategoricalParameter('Forecasting Delay Order', (1,3,5)),\n",
    "                            CategoricalParameter('Planning Time Houses', (1, 2, 3, 4, 5)),\n",
    "                            CategoricalParameter('Construction Time Houses', (1, 2, 3)),\n",
    "                            CategoricalParameter('Delay Order House Construction', (1,3,5)),\n",
    "                            RealParameter('Technical Lifetime Houses', 300, 500),\n",
    "                            RealParameter('Normal Land Use per Business', 0.048, 0.072),\n",
    "                            RealParameter('Jobs per harbour mtpa', 100, 150),\n",
    "                            CategoricalParameter('Planning Time Business', (1, 2, 3, 4, 5)),\n",
    "                            CategoricalParameter('Construction Time Business', (1,2, 3)),\n",
    "                            CategoricalParameter('Delay Order Business Construction', (1,3,5)),\n",
    "                            RealParameter('Technical Lifetime Business', 150, 250),\n",
    "#Harbour Model\n",
    "                            CategoricalParameter('Planning Time Harbour', (1,2,3,4,5)),\n",
    "                            CategoricalParameter('Construction Time Harbour', (1,2,3)),\n",
    "                            CategoricalParameter('Delay Order Harbour Construction', (1,3,5)),\n",
    "                            RealParameter('Technical Lifetime Harbour', 150, 250),\n",
    "#Area Model\n",
    "                            ## No Model Uncertainties\n",
    "#Economy Model\n",
    "                            ## No Model Uncertainties\n",
    "#Road Model\n",
    "                            CategoricalParameter('Planning Time New Construction Road', (5, 6, 7, 8, 9, 10, 11, 12, 13, 14, 15)),\n",
    "                            CategoricalParameter('Planning Time Renovation Road', (1, 2, 3)),\n",
    "                            CategoricalParameter('Renovation Time Road', (0.25, 0.5, 0.75, 1)),\n",
    "                            CategoricalParameter('Construction Time Road', (1, 2, 3, 4, 5)),\n",
    "                            RealParameter('Closure Rate Road A10 Intervention', 0.33, 0.50),\n",
    "                            RealParameter('PCE to MVT factor', 0.5, 2),\n",
    "                            CategoricalParameter('Delay Time Congestion Divergence', (0.5, 0.75, 1)),\n",
    "                            RealParameter('MTPA to Truck Factor', 0.000004, 0.000006),\n",
    "    \n",
    "#Lock Model\n",
    "                            CategoricalParameter('Delay time divergence factor', (0.5, 1.0, 1.5)),\n",
    "                            CategoricalParameter('Delay time Scaling Benefits', (0.5, 1.0, 1.5)),\n",
    "                            CategoricalParameter('Construction Time New Sea Lock', (2, 3, 4)),\n",
    "                            CategoricalParameter('Planning Time ReOpening old Noordersluis', (2, 3, 4)),\n",
    "                            CategoricalParameter('Construction Time Reopening old Noordersluis', (2, 3, 4)),\n",
    "                            CategoricalParameter('Construction Time New Sea Lock No Innovation', (2, 3, 4)),\n",
    "                            CategoricalParameter('Planning Time New Sea Lock No Innovation', (2, 3, 4)),\n",
    "                            CategoricalParameter('Planning Time New Sea Lock Innovation', (3, 4, 5, 6)),\n",
    "                            CategoricalParameter('Construction Time New Sea Lock Innovation', (3, 4, 5, 6)),\n",
    "                            CategoricalParameter('Initial MTPA Leisure Vessels', (2, 3, 4))\n",
    "                            ]                          "
   ]
  },
  {
   "cell_type": "markdown",
   "metadata": {},
   "source": [
    "#4 Specifying Model Constants for all Simulations"
   ]
  },
  {
   "cell_type": "code",
   "execution_count": 16,
   "metadata": {
    "collapsed": true
   },
   "outputs": [],
   "source": [
    "##GENERAL MODEL CONSTANTS\n",
    "model.constants = [\n",
    "#City Model\n",
    "                        Constant('Initial Planned Houses', 5000),\n",
    "                        Constant('Initial Houses', 423785), \n",
    "                        Constant('Normal size households', 1.97),\n",
    "                        Constant('Initial population', 834713),\n",
    "                        Constant('Labour population factor', 0.8),\n",
    "                        Constant('Initial Number of jobs per business unit', 4.64),\n",
    "                        Constant('Initial Planned Business', 1000),\n",
    "                        Constant('Initial Business', 100000),\n",
    "                        Constant('Percentage of Labour Population actively wanting a job', 0.7),\n",
    "                        Constant('Labour population out of City factor', 0.07),\n",
    "                \n",
    "#Harbour Model\n",
    "                        Constant('Initial Planned Harbour Capacity', 50),\n",
    "                        Constant('Initial Constructed Harbour Capacity', 200),\n",
    "                        Constant('MTPA Canal Capacity', 500),\n",
    "                        Constant('MTPA Train Capacity', 50),\n",
    "                        Constant('Initial world offer sea MTPA', 95),\n",
    "                        Constant('Initial world offer road MTPA', 38),\n",
    "                        Constant('Initial world offer rail MTPA', 5),\n",
    "                        Constant('Initial world offer canal MTPA', 63),\n",
    "                        Constant('Percentage Harbour Distribution Capacity Through Sea', 0.472637),\n",
    "                        Constant('Percentage Harbour Distribution Capacity Through Road', 0.189055),\n",
    "                        Constant('Percentage Harbour Distribution Capacity Through Canal', 0.313433),\n",
    "                        Constant('Percentage Harbour Distribution Capacity Through Train', 0.0248756),\n",
    "#Area Model\n",
    "                        Constant('Initial Free Area', 25000),\n",
    "                        Constant('Rail Planned', 0),\n",
    "                        Constant('Canal Planned', 0),\n",
    "                        Constant('Lock Planning', 0),\n",
    "                        Constant('Initial Nature Area', 7500),\n",
    "                        Constant('Initial Lock Area', 6),\n",
    "                        Constant('Initial Canal Area', 1500),\n",
    "                        Constant('Initial Rail Area', 100),\n",
    "                        Constant('Initial Flooding Area', 1500),\n",
    "                        Constant('Rail Demolished', 0),\n",
    "                        Constant('Lock Demolition', 0),\n",
    "                        Constant('Canal Demolished', 0),\n",
    "                        Constant('Road Lanes Demolished', 0),\n",
    "                        Constant('Flooding Area Demolished', 0),\n",
    "#Economy Model\n",
    "                        Constant('Initial Local Economy', 62603475000),\n",
    "                        Constant('Initial Shares Business', 0.25),\n",
    "                        Constant('Initial Shares Harbour', 0.25),\n",
    "                        Constant('Initial Shares Job Spending', 0.25),\n",
    "#Road Model\n",
    "                        Constant('Number of Weakest Links', 1),\n",
    "                        Constant('Number of Distribution Roads', 5),   \n",
    "                        Constant('Initial Planned Road Capacity', 0),\n",
    "                        Constant('Initial Deteriorated Road Capacity', 0),\n",
    "                        Constant('Initial Diminshed Road Capacity', 0),\n",
    "                        Constant('Normal Truck Percentage for calculating congestion limit', 0.15),\n",
    "                        Constant('Rush Hour Car Intensity', 9000),\n",
    "                        Constant('Initial IC Factor Road Intervention Moment Memory', 0),\n",
    "                        Constant('Initial Intervention Moment Sewer', 0),\n",
    "                        Constant('Initial Sewer System Maximum Capacity', 45),\n",
    "                        Constant('Sewer Capacity increased After Intervention', 55),\n",
    "                        Constant('Free Flow Capacity per Lane A10', 2000),\n",
    "                        Constant('Free Flow Capacity per Lane A8', 2100),\n",
    "                        Constant('Free Flow Capacity per Lane A2', 2100),\n",
    "                        Constant('Free Flow Capacity per Lane A4', 2100),\n",
    "                        Constant('Free Flow Capacity per Lane A5', 2100),\n",
    "                        Constant('Area per Road Lane', 15),\n",
    "                        Constant('Initial Number of Lanes A2', 8),\n",
    "                        Constant('Initial Number of Lanes A4', 8),\n",
    "                        Constant('Initial Number of Lanes A5', 4),\n",
    "                        Constant('Initial Number of Lanes A10', 6),\n",
    "                        Constant('Initial Number of Lanes A8', 10),\n",
    "                        Constant('Delay Order Divergence', 5),\n",
    "                        Constant('Reference Maximum Precipitation', 0.00414),\n",
    "#Lock Model\n",
    "                        Constant('Initial Cumulative Deteriorated Lock Capacity', 0),\n",
    "                        Constant('Initial Constructed Capacity New Sea Lock', 0),\n",
    "                        Constant('Initial Capacity Old Middensluis', 25),\n",
    "                        Constant('Initial Capacity Old Noordersluis', 66.667),\n",
    "                        Constant('Initial Capacity Kleine Sluis and Zuidersluis', 8.33),\n",
    "                        Constant('Initial Planned Lock Capacity', 0),\n",
    "                        Constant('Demolishing Rate New Locks', 0),\n",
    "                        Constant('Factor for increase required door height', 0.75833),\n",
    "                        Constant('Initial Required Height for doors', 515),\n",
    "                        Constant('Initial Required Height for remaining parts lock', 700),\n",
    "                        Constant('Factor for increase required height remaining parts lock', 0.75833),\n",
    "                        Constant('Minimum present Height of remaining parts', 725),\n",
    "                        Constant('Height door Old Noordersluis', 585),\n",
    "                        Constant('Height door Old Middensluis', 585),\n",
    "                        Constant('IC Lock Decision Making Factor', 0.5),\n",
    "                        Constant('Initial Door Height Intervention Moment Memory', 0),\n",
    "                        Constant('Initial Remaining Parts Height Intervention Moment Memory', 0),\n",
    "                        Constant('Initial IC Factor Lock Intervention Moment Memory', 0),\n",
    "                        Constant('MTPA Increase by New Sea Lock', 175),\n",
    "                        Constant('Delay Order Divergence factor', 5),\n",
    "                        Constant('Delay order Scaling benefits', 5),  \n",
    "       \n",
    "## SIMULATION SETTINGS\n",
    "                #Road Model\n",
    "                        Constant('Number of Lanes Added', 2),\n",
    "                        Constant('IC Decision Making Factor Road', 0.8),\n",
    "                        Constant('Switch Intervention Policy Road', 5),\n",
    "                        Constant('Policy Combination Switch', 3),\n",
    "                        Constant('Switch Sewer Intervention', 1),\n",
    "                        Constant('Base Case Intervention Moment', 0),\n",
    "                        Constant('First Intervention Moment Road System', 2017),\n",
    "                        Constant('Second Intervention Moment Road System', 2019), \n",
    "                #Lock Model\n",
    "                        Constant('Switch Lock Policy', 5),\n",
    "                        Constant('Intervention Moment New Sea Lock', 2017),\n",
    "                        Constant('Intervention Moment for 2nd New Sea Lock No Innovation', 0),\n",
    "                        Constant('Intervention Moment for 2nd New Sea Lock Innovation', 0),\n",
    "                        Constant('Intervention Moment for 3rd New Sea Lock No Innovation', 0),\n",
    "                        Constant('Intervention Moment for 3rd New Sea Lock Innovation', 2026),\n",
    "                        ]"
   ]
  },
  {
   "cell_type": "markdown",
   "metadata": {},
   "source": [
    "#6 Specifying Model Key Performance Indicators (KPIs)"
   ]
  },
  {
   "cell_type": "code",
   "execution_count": 7,
   "metadata": {
    "collapsed": true
   },
   "outputs": [],
   "source": [
    "#Important Model Outcomes\n",
    "model.outcomes = [\n",
    "                 TimeSeriesOutcome('City Population'),\n",
    "                 ScalarOutcome('MTPA Distributed in Harbour'),\n",
    "                 ScalarOutcome('Available Area'),\n",
    "                 TimeSeriesOutcome('Local Economy'),\n",
    "                 ScalarOutcome('Local Economic Growth'),\n",
    "                 ScalarOutcome('Road System IC Factor'),\n",
    "                 ScalarOutcome('Lock System IC Factor'),\n",
    "                 ]"
   ]
  },
  {
   "cell_type": "markdown",
   "metadata": {},
   "source": [
    "#7 Perform Experiments + Lines Plots"
   ]
  },
  {
   "cell_type": "code",
   "execution_count": 17,
   "metadata": {
    "collapsed": false,
    "scrolled": true
   },
   "outputs": [
    {
     "name": "stderr",
     "output_type": "stream",
     "text": [
      "[MainProcess/INFO] performing 1000 scenarios * 1 policies * 1 model(s) = 1000 experiments\n",
      "[MainProcess/INFO] performing experiments sequentially\n",
      "[MainProcess/INFO] 100 cases completed\n",
      "[MainProcess/INFO] 200 cases completed\n",
      "[MainProcess/INFO] 300 cases completed\n",
      "[MainProcess/INFO] 400 cases completed\n",
      "[MainProcess/INFO] 500 cases completed\n",
      "[MainProcess/INFO] 600 cases completed\n",
      "[MainProcess/INFO] 700 cases completed\n",
      "[MainProcess/INFO] 800 cases completed\n",
      "[MainProcess/INFO] 900 cases completed\n",
      "[MainProcess/INFO] 1000 cases completed\n",
      "[MainProcess/INFO] experiments finished\n"
     ]
    }
   ],
   "source": [
    "#Perform Experiments\n",
    "nr_experiments = 1000\n",
    "\n",
    "results = perform_experiments(model, nr_experiments)"
   ]
  },
  {
   "cell_type": "markdown",
   "metadata": {},
   "source": [
    "#8 Saving Results"
   ]
  },
  {
   "cell_type": "code",
   "execution_count": 18,
   "metadata": {
    "collapsed": false
   },
   "outputs": [
    {
     "name": "stderr",
     "output_type": "stream",
     "text": [
      "[MainProcess/INFO] results saved successfully to C:\\Users\\markh\\Dropbox\\Tu Delft\\Afstuderen SD\\V - EMA\\DUO_1000runs_SimulationFile_RoadXLockX.tar.gz\n"
     ]
    }
   ],
   "source": [
    "save_results(results, wd + '\\\\DUO_1000runs_SimulationFile_RoadXLockX.tar.gz')"
   ]
  },
  {
   "cell_type": "code",
   "execution_count": null,
   "metadata": {
    "collapsed": true
   },
   "outputs": [],
   "source": []
  }
 ],
 "metadata": {
  "kernelspec": {
   "display_name": "Python 3",
   "language": "python",
   "name": "python3"
  },
  "language_info": {
   "codemirror_mode": {
    "name": "ipython",
    "version": 3
   },
   "file_extension": ".py",
   "mimetype": "text/x-python",
   "name": "python",
   "nbconvert_exporter": "python",
   "pygments_lexer": "ipython3",
   "version": "3.6.0"
  }
 },
 "nbformat": 4,
 "nbformat_minor": 2
}
